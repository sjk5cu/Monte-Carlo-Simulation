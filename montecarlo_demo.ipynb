{
 "cells": [
  {
   "cell_type": "markdown",
   "metadata": {},
   "source": [
    "\n",
    "Final Project Report\n",
    "\n",
    "    Class: DS 5100\n",
    "    Student Name: Stephen Kullman\n",
    "    Student Net ID: sjk5cu\n",
    "    This URL: https://github.com/sjk5cu/sjk5cu_ds5100_montecarlo/blob/main/montecarlo_demo.ipynb\n"
   ]
  },
  {
   "cell_type": "markdown",
   "metadata": {},
   "source": [
    "\n",
    "Instructions\n",
    "\n",
    "Follow the instructions in the Final Project isntructions and put your work in this notebook.\n",
    "\n",
    "Total points for each subsection under Deliverables and Scenarios are given in parentheses.\n",
    "\n",
    "Breakdowns of points within subsections are specified within subsection instructions as bulleted lists.\n",
    "\n",
    "This project is worth 50 points.\n"
   ]
  },
  {
   "cell_type": "markdown",
   "metadata": {},
   "source": [
    "# Deliverables"
   ]
  },
  {
   "cell_type": "markdown",
   "metadata": {},
   "source": [
    "## The Monte Carlo Module (10)"
   ]
  },
  {
   "cell_type": "markdown",
   "metadata": {},
   "source": [
    "Put the URL to your GitHub repo here.\n",
    "\n",
    "Repo URL: https://github.com/sjk5cu/sjk5cu_ds5100_montecarlo\n",
    "\n",
    "Paste a copy of your module here.\n",
    "\n",
    "NOTE: Paste as text, not as code. Use triple backticks to wrap your code blocks."
   ]
  },
  {
   "cell_type": "markdown",
   "metadata": {},
   "source": [
    "```python\n",
    "import numpy as np\n",
    "import pandas as pd\n",
    "import random\n",
    "\n",
    "\n",
    "class Die():\n",
    "    '''\n",
    "    This is a class to model a generalized n-sided 'die'. It can be a two sided coin, a 6 sided die, a deck of cards, etc.\n",
    "\n",
    "    Attributes\n",
    "    -----------\n",
    "    sides: a numpy array of the sides of the generalised die. \n",
    "\n",
    "    Methods\n",
    "    ------------\n",
    "    roll_dice(): Intiializes a Die object. Takes a NumPy Array as a parameter. Default weights are 1 for every face\n",
    "    change_weights(): A function to change one weight of the generalized die. Takes two arguments: the side to be changed, and the new weight\n",
    "    show_die(): Function to return the copy of the die dataframe showing sides and weights\n",
    "    \n",
    "    '''\n",
    "    \n",
    "    def __init__(self,sides):\n",
    "        ''' Intiializes a Die object. Takes a NumPy Array as a parameter. Default weights are 1 for every face'''\n",
    "\n",
    "        if type(sides) == type(np.array([0])):\n",
    "            if len(sides) == len(np.unique(sides)):\n",
    "                self.sides=len(sides)\n",
    "                self._weight= pd.DataFrame({\"side\": [i for i in sides],\n",
    "                                            \"weights\": [1 for i in sides],\n",
    "                                            })\n",
    "                \n",
    "                self._die = self._weight.set_index('side')\n",
    "                                    \n",
    "            else: raise ValueError(\"Values must be distinct\")\n",
    "        else: raise TypeError(\"Input must be a Numpy Array\")\n",
    "\n",
    "    def roll_dice(self,n_rolls=1):\n",
    "        '''a function to roll the generalized die. Takes an argument n_rolls and returns a list of the output'''\n",
    "\n",
    "        for i in range(n_rolls):\n",
    "            result = random.choices(self._die.index,k=n_rolls,weights = self._die.weights)\n",
    "            \n",
    "        return result\n",
    "    \n",
    "    def change_weights(self,side,new_weight:int):\n",
    "        '''A function to change one weight of the generalized die. Takes two arguments: the side to be changed, and the new weight'''\n",
    "\n",
    "        if side in self._die.index:\n",
    "            self._die.loc[side] = new_weight\n",
    "        else: raise IndexError(\"Side Not Found\")\n",
    "        \n",
    "\n",
    "    def show_die(self):\n",
    "        '''Function to return the copy of the die dataframe showing sides and weights'''\n",
    "        \n",
    "        return self._die.copy(deep=True)\n",
    "    \n",
    "    \n",
    "\n",
    "\n",
    "\n",
    "class Game():\n",
    "    ''' \n",
    "    Class to simulate a monte carlo game. Takes in a list of generalized Die objects \n",
    "\n",
    "    Attributes\n",
    "    -------------\n",
    "    dice: list of die objects. Must be list data type\n",
    "\n",
    "\n",
    "    Methods\n",
    "    ------------\n",
    "    play(): method to play a game for a given number of trials\n",
    "    show_results(): method to show results of the game\n",
    "    '''\n",
    "    \n",
    "    def __init__(self,list_of_dice:list):\n",
    "        ''' \n",
    "        Initializes a Game object. Takes a list of Die objects as a parameter\n",
    "        \n",
    "        Inputs\n",
    "        -----------\n",
    "        list_of_dice = list of Die objects. Must be list. No default value\n",
    "    \n",
    "        '''\n",
    "        \n",
    "        if type(list_of_dice) == type([]):\n",
    "            self.dice = list_of_dice\n",
    "            self._results = []\n",
    "        else: raise TypeError(\"Value must be a list\")\n",
    "\n",
    "    def play(self,trials:int):\n",
    "        '''\n",
    "        Method to play a game for a given number of trials\n",
    "\n",
    "        Inputs\n",
    "        -------\n",
    "        trials: integer of how many rolls each die will be rolled.\n",
    "\n",
    "        Stores results in object attribute and returns a copy\n",
    "        '''\n",
    "\n",
    "        gameResults = {f'Die{i+1}': die.roll_dice(trials) for i,die in enumerate(self.dice)}\n",
    "        self._results = pd.DataFrame(gameResults)   \n",
    "        return self._results.copy(deep=True)\n",
    "\n",
    "    def show_results(self, format=\"wide\"):\n",
    "        '''\n",
    "        Method to show results of the game. Returns a dataframe of the results\n",
    "        \n",
    "        Input\n",
    "        -------\n",
    "        format: str value. Can be wide or narrow. \n",
    "\n",
    "        Returns a dataframe of the game results\n",
    "        '''\n",
    "        \n",
    "        if type(format) == str:\n",
    "            if format.lower() == \"wide\":\n",
    "                return self._results.copy()\n",
    "            elif format.lower() == \"narrow\":\n",
    "                return self._results.copy().melt(ignore_index=False).rename_axis(\"Roll\",axis=0).rename({\"variable\":\"Die\",\"value\":\"Value\"},axis=1).reset_index().set_index([\"Roll\",\"Die\"])\n",
    "            else: raise ValueError(\"Please select Wide or Narrow for format\")\n",
    "        else: raise TypeError(\"Value must be a string\")\n",
    "\n",
    "class Analyzer():\n",
    "    ''' \n",
    "    Initializes an Analyzer object\n",
    "\n",
    "    Attributes\n",
    "    --------------\n",
    "    game: the game object passed into the init\n",
    "    data: the results of the game object to be analyzed\n",
    "\n",
    "    Methods\n",
    "    --------------\n",
    "    jackpot(): returns the number of jackpots, where jackpot is defined as the same face for all die cast in the same roll. All 1's, for example.\n",
    "    face_counts(): returns a dataframe of each face count present per roll\n",
    "    combo_count(): Computes the distinct combinations for each game and stores it in a dataframe\n",
    "    permu_count(): Computes the permutations for each game and stores it in a dataframe\n",
    "    \n",
    "    '''\n",
    "    def __init__(self,gameObject):\n",
    "        ''' \n",
    "        Initializes an Analyzer object. Takes a single Game object as a parameter\n",
    "        \n",
    "        Input: a Game object. Must be a game object.\n",
    "        '''\n",
    "\n",
    "        if not isinstance(gameObject,Game):\n",
    "            raise TypeError(\"Must take a Game Object\")\n",
    "        \n",
    "        self.game = gameObject\n",
    "        self.data = self.game.show_results()\n",
    "\n",
    "    def jackpot(self):\n",
    "        '''\n",
    "        Returns the number of jackpots in a given game. Jackpot is defined as all 1's on a roll, for example.\n",
    "\n",
    "        '''\n",
    "\n",
    "        data = self.game.show_results()\n",
    "        jackpot_counter = 0\n",
    "        \n",
    "        for index in data.index:\n",
    "            if len(data.iloc[index].value_counts()) == 1:\n",
    "                jackpot_counter += 1\n",
    "        return jackpot_counter\n",
    "\n",
    "    def face_counts(self):\n",
    "        '''Computes how many times a given face is rolled in each event. Returns a dataframe of results'''\n",
    "        \n",
    "        lists = [self.data.iloc[row].value_counts().reset_index() for row in self.data.index]\n",
    "        final = pd.concat(lists,axis=0).groupby(\"index\").sum().T\n",
    "    \n",
    "        return final\n",
    "\n",
    "    def combo_count(self):\n",
    "        '''Computes distinct combinations of faces rolled along with their counts. Returns a dataframe of results'''\n",
    "        \n",
    "        sort = np.sort(self.data.values,axis=1)\n",
    "        df =  pd.DataFrame(sort,columns = self.data.columns).value_counts()\n",
    "        return df\n",
    "\n",
    "    def permu_count(self):\n",
    "        '''Computes distinct permutations of faces rolled along with their counts. Returns a dataframe of results'''\n",
    "\n",
    "        return self.data.value_counts().to_frame()\n",
    "```\n",
    "\n"
   ]
  },
  {
   "cell_type": "markdown",
   "metadata": {},
   "source": [
    "## Unit Test Module (2)"
   ]
  },
  {
   "cell_type": "markdown",
   "metadata": {},
   "source": [
    "```python\n",
    "import unittest\n",
    "from montecarlo import Die,Game,Analyzer\n",
    "import numpy as np\n",
    "import pandas as pd\n",
    "\n",
    "class monteCarloTestSuite(unittest.TestCase):\n",
    "    \n",
    "    def test_1_roll_dice(self):\n",
    "\n",
    "        a = np.array([1,2,3,4,5,6])\n",
    "        test = []\n",
    "        die1 = Die(a)\n",
    "        ans = die1.roll_dice()\n",
    "        self.assertTrue(type(ans)==type(test))\n",
    "\n",
    "\n",
    "    def test_2_change_weights(self):\n",
    "         \n",
    "         a = np.array([1,2,3,4,5,6])\n",
    "         die1 = Die(a)\n",
    "         die1.change_weights(2,2)\n",
    "         test = 2\n",
    "         ans = die1.show_die().iloc[1].item()\n",
    "         self.assertTrue(ans,test)\n",
    "\n",
    "    def test_3_show_die(self):\n",
    "\n",
    "        a = np.array([1,2,3,4,5,6])\n",
    "        die1 = Die(a)\n",
    "        test = die1.show_die()\n",
    "        ans = pd.DataFrame()\n",
    "        self.assertTrue(type(ans) == type(test))\n",
    "       \n",
    "\n",
    "    def test_4_play(self):\n",
    "\n",
    "        a = np.array([1,2,3,4,5,6])\n",
    "        die1 = Die(a)\n",
    "        die2 = Die(a)\n",
    "        list = [die1,die2]\n",
    "        game = Game(list)\n",
    "        game.play(5)\n",
    "        answer = 5\n",
    "        test = len(game.show_results())\n",
    "        self.assertEqual(answer,test)\n",
    "\n",
    "    def test_5_show_results(self):\n",
    "        \n",
    "        a = np.array([1,2,3,4,5,6])\n",
    "        die1 = Die(a)\n",
    "        die2 = Die(a)\n",
    "        list = [die1,die2]\n",
    "        game = Game(list)\n",
    "        game.play(5)\n",
    "        ans = pd.DataFrame()\n",
    "        test = game.show_results()\n",
    "        self.assertTrue(type(test)==type(ans))\n",
    "              \n",
    "    def test_6_jackpot(self): \n",
    "       \n",
    "       a = np.array([1,2,3,4,5,6])\n",
    "       die1 = Die(a)\n",
    "       die2 = Die(a)\n",
    "       list = [die1,die2]\n",
    "       game = Game(list)\n",
    "       game.play(5)\n",
    "       analyzer = Analyzer(game)\n",
    "       a = 8\n",
    "       b = analyzer.jackpot()\n",
    "       self.assertTrue(type(a)==type(b)) \n",
    "\n",
    "    def test_7_combo_count(self): \n",
    "       \n",
    "       a = np.array([1,2,3,4,5,6])\n",
    "       die1 = Die(a)\n",
    "       die2 = Die(a)\n",
    "       list = [die1,die2]\n",
    "       game = Game(list)\n",
    "       game.play(5)\n",
    "       analyzer = Analyzer(game)\n",
    "       ans = pd.DataFrame()\n",
    "       test = analyzer.combo_count()\n",
    "       self.assertTrue(type(test)==type(ans))\n",
    "\n",
    "    def test_8_permu_count(self): \n",
    "\n",
    "        a = np.array([1,2,3,4,5,6])\n",
    "        die1 = Die(a)\n",
    "        die2 = Die(a)\n",
    "        list = [die1,die2]\n",
    "        game = Game(list)\n",
    "        game.play(5)\n",
    "        analyzer = Analyzer(game)\n",
    "        ans = pd.DataFrame()\n",
    "        test = analyzer.permu_count()\n",
    "        self.assertTrue(type(test)==type(ans))\n",
    "\n",
    "    def test_9_face_counts(self):\n",
    "\n",
    "        a = np.array([1,2,3,4,5,6])\n",
    "        die1 = Die(a)\n",
    "        die2 = Die(a)\n",
    "        list = [die1,die2]\n",
    "        game = Game(list)\n",
    "        game.play(5)\n",
    "        analyzer = Analyzer(game)\n",
    "        ans = pd.DataFrame()\n",
    "        test = analyzer.face_counts()\n",
    "        self.assertTrue(type(test)==type(ans))\n",
    "\n",
    "    def test_10_die_object(self):\n",
    "\n",
    "        a = np.array([1,2,3,4,5,6])\n",
    "        die1 = Die(a)\n",
    "        self.assertTrue(type(die1)==Die)\n",
    "\n",
    "    def test_11_game_object(self):\n",
    "\n",
    "        a = np.array([1,2,3,4,5,6])\n",
    "        die1 = Die(a)\n",
    "        die2 = Die(a)\n",
    "        list = [die1,die2]\n",
    "        game = Game(list)\n",
    "        self.assertTrue(type(game)==Game)\n",
    "\n",
    "    def test_12_analyzer_object(self):\n",
    "\n",
    "        a = np.array([1,2,3,4,5,6])\n",
    "        die1 = Die(a)\n",
    "        die2 = Die(a)\n",
    "        list = [die1,die2]\n",
    "        game = Game(list)\n",
    "        game.play(5)\n",
    "        analyzer = Analyzer(game)\n",
    "        self.assertTrue(type(analyzer)==Analyzer)\n",
    "\n",
    "                \n",
    "if __name__ == '__main__':\n",
    "    \n",
    "    unittest.main(verbosity=3)\n",
    "\n",
    "```"
   ]
  },
  {
   "cell_type": "markdown",
   "metadata": {},
   "source": [
    "## Unit Test Results (3)"
   ]
  },
  {
   "cell_type": "markdown",
   "metadata": {},
   "source": [
    "```text\n",
    "test_10_die_object (__main__.monteCarloTestSuite) ... ok\n",
    "test_11_game_object (__main__.monteCarloTestSuite) ... ok\n",
    "test_12_analyzer_object (__main__.monteCarloTestSuite) ... ok\n",
    "test_1_roll_dice (__main__.monteCarloTestSuite) ... ok\n",
    "test_2_change_weights (__main__.monteCarloTestSuite) ... ok\n",
    "test_3_show_die (__main__.monteCarloTestSuite) ... ok\n",
    "test_4_play (__main__.monteCarloTestSuite) ... ok\n",
    "test_5_show_results (__main__.monteCarloTestSuite) ... ok\n",
    "test_6_jackpot (__main__.monteCarloTestSuite) ... ok\n",
    "test_7_combo_count (__main__.monteCarloTestSuite) ... ok\n",
    "test_8_permu_count (__main__.monteCarloTestSuite) ... ok\n",
    "test_9_face_counts (__main__.monteCarloTestSuite) ... ok\n",
    "\n",
    "----------------------------------------------------------------------\n",
    "Ran 12 tests in 0.010s\n",
    "\n",
    "OK\n",
    "```"
   ]
  },
  {
   "cell_type": "markdown",
   "metadata": {},
   "source": [
    "## Import (1)"
   ]
  },
  {
   "cell_type": "code",
   "execution_count": 11,
   "metadata": {},
   "outputs": [],
   "source": [
    "import numpy as np\n",
    "import pandas as pd\n",
    "from montecarlo.montecarlo import Die,Game,Analyzer"
   ]
  },
  {
   "cell_type": "markdown",
   "metadata": {},
   "source": [
    "## Help Docs (4)"
   ]
  },
  {
   "cell_type": "code",
   "execution_count": null,
   "metadata": {},
   "outputs": [],
   "source": [
    "help(Die)"
   ]
  },
  {
   "cell_type": "markdown",
   "metadata": {},
   "source": [
    "```text\n",
    "Help on class Die in module montecarlo.montecarlo:\n",
    "\n",
    "class Die(builtins.object)\n",
    " |  Die(sides)\n",
    " |  \n",
    " |  This is a class to model a generalized n-sided 'die'. It can be a two sided coin, a 6 sided die, a deck of cards, etc.\n",
    " |  \n",
    " |  Attributes\n",
    " |  -----------\n",
    " |  sides: a numpy array of the sides of the generalised die. \n",
    " |  \n",
    " |  Methods\n",
    " |  ------------\n",
    " |  roll_dice(): Intiializes a Die object. Takes a NumPy Array as a parameter. Default weights are 1 for every face\n",
    " |  change_weights(): A function to change one weight of the generalized die. Takes two arguments: the side to be changed, and the new weight\n",
    " |  show_die(): Function to return the copy of the die dataframe showing sides and weights\n",
    " |  \n",
    " |  Methods defined here:\n",
    " |  \n",
    " |  __init__(self, sides)\n",
    " |      Intiializes a Die object. Takes a NumPy Array as a parameter. Default weights are 1 for every face\n",
    " |  \n",
    " |  change_weights(self, side, new_weight: int)\n",
    " |      A function to change one weight of the generalized die. Takes two arguments: the side to be changed, and the new weight\n",
    " |  \n",
    " |  roll_dice(self, n_rolls=1)\n",
    " |      a function to roll the generalized die. Takes an argument n_rolls and returns a list of the output\n",
    " |  \n",
    " |  show_die(self)\n",
    " |      Function to return the copy of the die dataframe showing sides and weights\n",
    " |  \n",
    " |  ----------------------------------------------------------------------\n",
    " |  Data descriptors defined here:\n",
    " |  \n",
    " |  __dict__\n",
    " |      dictionary for instance variables (if defined)\n",
    " |  \n",
    " |  __weakref__\n",
    " |      list of weak references to the object (if defined)\n",
    " ```"
   ]
  },
  {
   "cell_type": "code",
   "execution_count": null,
   "metadata": {},
   "outputs": [],
   "source": [
    "help(Game)"
   ]
  },
  {
   "cell_type": "markdown",
   "metadata": {},
   "source": [
    "```text\n",
    "Help on class Game in module montecarlo.montecarlo:\n",
    "\n",
    "class Game(builtins.object)\n",
    " |  Game(list_of_dice: list)\n",
    " |  \n",
    " |  Class to simulate a monte carlo game. Takes in a list of generalized Die objects \n",
    " |  \n",
    " |  Attributes\n",
    " |  -------------\n",
    " |  dice: list of die objects. Must be list data type\n",
    " |  \n",
    " |  \n",
    " |  Methods\n",
    " |  ------------\n",
    " |  play(): method to play a game for a given number of trials\n",
    " |  show_results(): method to show results of the game\n",
    " |  \n",
    " |  Methods defined here:\n",
    " |  \n",
    " |  __init__(self, list_of_dice: list)\n",
    " |      Initializes a Game object. Takes a list of Die objects as a parameter\n",
    " |      \n",
    " |      Inputs\n",
    " |      -----------\n",
    " |      list_of_dice = list of Die objects. Must be list. No default value\n",
    " |  \n",
    " |  play(self, trials: int)\n",
    " |      Method to play a game for a given number of trials\n",
    " |      \n",
    " |      Inputs\n",
    " |      -------\n",
    " |      trials: integer of how many rolls each die will be rolled.\n",
    " |      \n",
    " |      Stores results in object attribute and returns a copy\n",
    " |  \n",
    " |  show_results(self, format='wide')\n",
    " |      Method to show results of the game. Returns a dataframe of the results\n",
    " |      \n",
    " |      Input\n",
    " |      -------\n",
    " |      format: str value. Can be wide or narrow. \n",
    " |      \n",
    " |      Returns a dataframe of the game results\n",
    " |  \n",
    " |  ----------------------------------------------------------------------\n",
    " |  Data descriptors defined here:\n",
    " |  \n",
    " |  __dict__\n",
    " |      dictionary for instance variables (if defined)\n",
    " |  \n",
    " |  __weakref__\n",
    " |      list of weak references to the object (if defined)\n",
    "```"
   ]
  },
  {
   "cell_type": "code",
   "execution_count": null,
   "metadata": {},
   "outputs": [],
   "source": [
    "help(Analyzer)"
   ]
  },
  {
   "cell_type": "markdown",
   "metadata": {},
   "source": [
    "```text\n",
    "Help on class Analyzer in module montecarlo.montecarlo:\n",
    "\n",
    "class Analyzer(builtins.object)\n",
    " |  Analyzer(gameObject)\n",
    " |  \n",
    " |  Initializes an Analyzer object\n",
    " |  \n",
    " |  Attributes\n",
    " |  --------------\n",
    " |  game: the game object passed into the init\n",
    " |  data: the results of the game object to be analyzed\n",
    " |  \n",
    " |  Methods\n",
    " |  --------------\n",
    " |  jackpot(): returns the number of jackpots, where jackpot is defined as the same face for all die cast in the same roll. All 1's, for example.\n",
    " |  face_counts(): returns a dataframe of each face count present per roll\n",
    " |  combo_count(): Computes the distinct combinations for each game and stores it in a dataframe\n",
    " |  permu_count(): Computes the distinct permutations for each game and stores it in a dataframe\n",
    " |  \n",
    " |  Methods defined here:\n",
    " |  \n",
    " |  __init__(self, gameObject)\n",
    " |      Initializes an Analyzer object. Takes a single Game object as a parameter\n",
    " |      \n",
    " |      Input: a Game object. Must be a game object.\n",
    " |  \n",
    " |  combo_count(self)\n",
    " |      Computes distinct combinations of faces rolled along with their counts. Returns a dataframe of results\n",
    " |  \n",
    " |  face_counts(self)\n",
    " |      Computes how many times a given face is rolled in each event. Returns a dataframe of results\n",
    " |  \n",
    " |  jackpot(self)\n",
    " |      Returns the number of jackpots in a given game. Jackpot is defined as all 1's on a roll, for example.\n",
    " |  \n",
    " |  permu_count(self)\n",
    " |      Computes distinct permutations of faces rolled along with their counts. Returns a dataframe of results\n",
    " |  \n",
    " |  ----------------------------------------------------------------------\n",
    " |  Data descriptors defined here:\n",
    " |  \n",
    " |  __dict__\n",
    " |      dictionary for instance variables (if defined)\n",
    " |  \n",
    " |  __weakref__\n",
    " |      list of weak references to the object (if defined)\n",
    "```"
   ]
  },
  {
   "cell_type": "markdown",
   "metadata": {},
   "source": [
    "## README.md File (3)"
   ]
  },
  {
   "cell_type": "markdown",
   "metadata": {},
   "source": [
    "https://github.com/sjk5cu/sjk5cu_ds5100_montecarlo/blob/main/README.md"
   ]
  },
  {
   "cell_type": "markdown",
   "metadata": {},
   "source": [
    "## Successful installation (2)"
   ]
  },
  {
   "cell_type": "markdown",
   "metadata": {},
   "source": [
    "(base) stephenkullman@MacBook-Air sjk5cu_ds5100_montecarlo % pip install montecarlo \\\n",
    "Collecting montecarlo \\\n",
    "  Downloading montecarlo-0.1.17.tar.gz (1.3 kB) \\\n",
    "  Preparing metadata (setup.py) ... done \\\n",
    "Building wheels for collected packages: montecarlo \\\n",
    "  Building wheel for montecarlo (setup.py) ... done \\\n",
    "  Created wheel for montecarlo: filename=montecarlo-0.1.17-py3-none-any.whl size=1857 \\ sha256=1695eeda42ffca14236191f15150ad9650ecc27d1c647ea4e4db7b58056f62a4 \\\n",
    "  Stored in directory: /Users/stephenkullman/Library/Caches/pip/wheels/9b/96/96/9ba8cf535febd42d4b6f0650941b412502cd6f6471bca1bf12 \\\n",
    "Successfully built montecarlo \\\n",
    "Installing collected packages: montecarlo \\\n",
    "Successfully installed montecarlo-0.1.17 \\"
   ]
  },
  {
   "cell_type": "markdown",
   "metadata": {},
   "source": [
    "# Scenarios"
   ]
  },
  {
   "cell_type": "markdown",
   "metadata": {},
   "source": [
    "## Scenario 1: A 2-headed Coin"
   ]
  },
  {
   "cell_type": "markdown",
   "metadata": {},
   "source": [
    "Create a fair coin (with faces H and T) and one unfair coin in which one of the faces has a weight of 5 and the others 1"
   ]
  },
  {
   "cell_type": "code",
   "execution_count": 15,
   "metadata": {},
   "outputs": [],
   "source": [
    "a = np.array([\"H\",\"T\"])\n",
    "coin1 = Die(a)\n",
    "unfairCoin = Die(a)"
   ]
  },
  {
   "cell_type": "code",
   "execution_count": 16,
   "metadata": {},
   "outputs": [],
   "source": [
    "unfairCoin.change_weights(side=\"H\",new_weight=5)"
   ]
  },
  {
   "cell_type": "markdown",
   "metadata": {},
   "source": [
    "Play a game of 1000 flips with two fair dice."
   ]
  },
  {
   "cell_type": "code",
   "execution_count": 17,
   "metadata": {},
   "outputs": [],
   "source": [
    "gameFair = Game([coin1,coin1])"
   ]
  },
  {
   "cell_type": "code",
   "execution_count": 18,
   "metadata": {},
   "outputs": [
    {
     "data": {
      "text/html": [
       "<div>\n",
       "<style scoped>\n",
       "    .dataframe tbody tr th:only-of-type {\n",
       "        vertical-align: middle;\n",
       "    }\n",
       "\n",
       "    .dataframe tbody tr th {\n",
       "        vertical-align: top;\n",
       "    }\n",
       "\n",
       "    .dataframe thead th {\n",
       "        text-align: right;\n",
       "    }\n",
       "</style>\n",
       "<table border=\"1\" class=\"dataframe\">\n",
       "  <thead>\n",
       "    <tr style=\"text-align: right;\">\n",
       "      <th></th>\n",
       "      <th>Die1</th>\n",
       "      <th>Die2</th>\n",
       "    </tr>\n",
       "  </thead>\n",
       "  <tbody>\n",
       "    <tr>\n",
       "      <th>0</th>\n",
       "      <td>T</td>\n",
       "      <td>H</td>\n",
       "    </tr>\n",
       "    <tr>\n",
       "      <th>1</th>\n",
       "      <td>T</td>\n",
       "      <td>T</td>\n",
       "    </tr>\n",
       "    <tr>\n",
       "      <th>2</th>\n",
       "      <td>T</td>\n",
       "      <td>T</td>\n",
       "    </tr>\n",
       "    <tr>\n",
       "      <th>3</th>\n",
       "      <td>T</td>\n",
       "      <td>H</td>\n",
       "    </tr>\n",
       "    <tr>\n",
       "      <th>4</th>\n",
       "      <td>H</td>\n",
       "      <td>T</td>\n",
       "    </tr>\n",
       "    <tr>\n",
       "      <th>...</th>\n",
       "      <td>...</td>\n",
       "      <td>...</td>\n",
       "    </tr>\n",
       "    <tr>\n",
       "      <th>995</th>\n",
       "      <td>T</td>\n",
       "      <td>T</td>\n",
       "    </tr>\n",
       "    <tr>\n",
       "      <th>996</th>\n",
       "      <td>T</td>\n",
       "      <td>T</td>\n",
       "    </tr>\n",
       "    <tr>\n",
       "      <th>997</th>\n",
       "      <td>T</td>\n",
       "      <td>H</td>\n",
       "    </tr>\n",
       "    <tr>\n",
       "      <th>998</th>\n",
       "      <td>T</td>\n",
       "      <td>T</td>\n",
       "    </tr>\n",
       "    <tr>\n",
       "      <th>999</th>\n",
       "      <td>T</td>\n",
       "      <td>T</td>\n",
       "    </tr>\n",
       "  </tbody>\n",
       "</table>\n",
       "<p>1000 rows × 2 columns</p>\n",
       "</div>"
      ],
      "text/plain": [
       "    Die1 Die2\n",
       "0      T    H\n",
       "1      T    T\n",
       "2      T    T\n",
       "3      T    H\n",
       "4      H    T\n",
       "..   ...  ...\n",
       "995    T    T\n",
       "996    T    T\n",
       "997    T    H\n",
       "998    T    T\n",
       "999    T    T\n",
       "\n",
       "[1000 rows x 2 columns]"
      ]
     },
     "execution_count": 18,
     "metadata": {},
     "output_type": "execute_result"
    }
   ],
   "source": [
    "gameFair.play(1000)"
   ]
  },
  {
   "cell_type": "markdown",
   "metadata": {},
   "source": [
    "Play another game (using a new Game object) of 1000 flips, this time using two unfair dice and one fair die. For the second unfair die, you can use the same die object twice in the list of dice you pass to the Game object."
   ]
  },
  {
   "cell_type": "code",
   "execution_count": 19,
   "metadata": {},
   "outputs": [],
   "source": [
    "gameUnfair = Game([unfairCoin,unfairCoin,coin1])"
   ]
  },
  {
   "cell_type": "code",
   "execution_count": 20,
   "metadata": {},
   "outputs": [
    {
     "data": {
      "text/html": [
       "<div>\n",
       "<style scoped>\n",
       "    .dataframe tbody tr th:only-of-type {\n",
       "        vertical-align: middle;\n",
       "    }\n",
       "\n",
       "    .dataframe tbody tr th {\n",
       "        vertical-align: top;\n",
       "    }\n",
       "\n",
       "    .dataframe thead th {\n",
       "        text-align: right;\n",
       "    }\n",
       "</style>\n",
       "<table border=\"1\" class=\"dataframe\">\n",
       "  <thead>\n",
       "    <tr style=\"text-align: right;\">\n",
       "      <th></th>\n",
       "      <th>Die1</th>\n",
       "      <th>Die2</th>\n",
       "      <th>Die3</th>\n",
       "    </tr>\n",
       "  </thead>\n",
       "  <tbody>\n",
       "    <tr>\n",
       "      <th>0</th>\n",
       "      <td>T</td>\n",
       "      <td>T</td>\n",
       "      <td>H</td>\n",
       "    </tr>\n",
       "    <tr>\n",
       "      <th>1</th>\n",
       "      <td>H</td>\n",
       "      <td>T</td>\n",
       "      <td>T</td>\n",
       "    </tr>\n",
       "    <tr>\n",
       "      <th>2</th>\n",
       "      <td>H</td>\n",
       "      <td>H</td>\n",
       "      <td>H</td>\n",
       "    </tr>\n",
       "    <tr>\n",
       "      <th>3</th>\n",
       "      <td>H</td>\n",
       "      <td>H</td>\n",
       "      <td>T</td>\n",
       "    </tr>\n",
       "    <tr>\n",
       "      <th>4</th>\n",
       "      <td>T</td>\n",
       "      <td>H</td>\n",
       "      <td>H</td>\n",
       "    </tr>\n",
       "    <tr>\n",
       "      <th>...</th>\n",
       "      <td>...</td>\n",
       "      <td>...</td>\n",
       "      <td>...</td>\n",
       "    </tr>\n",
       "    <tr>\n",
       "      <th>995</th>\n",
       "      <td>H</td>\n",
       "      <td>H</td>\n",
       "      <td>T</td>\n",
       "    </tr>\n",
       "    <tr>\n",
       "      <th>996</th>\n",
       "      <td>H</td>\n",
       "      <td>T</td>\n",
       "      <td>T</td>\n",
       "    </tr>\n",
       "    <tr>\n",
       "      <th>997</th>\n",
       "      <td>H</td>\n",
       "      <td>H</td>\n",
       "      <td>H</td>\n",
       "    </tr>\n",
       "    <tr>\n",
       "      <th>998</th>\n",
       "      <td>T</td>\n",
       "      <td>H</td>\n",
       "      <td>T</td>\n",
       "    </tr>\n",
       "    <tr>\n",
       "      <th>999</th>\n",
       "      <td>H</td>\n",
       "      <td>H</td>\n",
       "      <td>H</td>\n",
       "    </tr>\n",
       "  </tbody>\n",
       "</table>\n",
       "<p>1000 rows × 3 columns</p>\n",
       "</div>"
      ],
      "text/plain": [
       "    Die1 Die2 Die3\n",
       "0      T    T    H\n",
       "1      H    T    T\n",
       "2      H    H    H\n",
       "3      H    H    T\n",
       "4      T    H    H\n",
       "..   ...  ...  ...\n",
       "995    H    H    T\n",
       "996    H    T    T\n",
       "997    H    H    H\n",
       "998    T    H    T\n",
       "999    H    H    H\n",
       "\n",
       "[1000 rows x 3 columns]"
      ]
     },
     "execution_count": 20,
     "metadata": {},
     "output_type": "execute_result"
    }
   ],
   "source": [
    "gameUnfair.play(1000)"
   ]
  },
  {
   "cell_type": "markdown",
   "metadata": {},
   "source": [
    "For each game, use an Analyzer object to determine the raw frequency of jackpots — i.e. getting either all Hs or all Ts."
   ]
  },
  {
   "cell_type": "code",
   "execution_count": 21,
   "metadata": {},
   "outputs": [],
   "source": [
    "fairAnalyzer = Analyzer(gameFair)"
   ]
  },
  {
   "cell_type": "code",
   "execution_count": 22,
   "metadata": {},
   "outputs": [
    {
     "data": {
      "text/plain": [
       "479"
      ]
     },
     "execution_count": 22,
     "metadata": {},
     "output_type": "execute_result"
    }
   ],
   "source": [
    "fairAnalyzer.jackpot()"
   ]
  },
  {
   "cell_type": "code",
   "execution_count": 23,
   "metadata": {},
   "outputs": [],
   "source": [
    "unfairAnalyzer = Analyzer(gameUnfair)"
   ]
  },
  {
   "cell_type": "code",
   "execution_count": 24,
   "metadata": {},
   "outputs": [
    {
     "data": {
      "text/plain": [
       "348"
      ]
     },
     "execution_count": 24,
     "metadata": {},
     "output_type": "execute_result"
    }
   ],
   "source": [
    "unfairAnalyzer.jackpot()"
   ]
  },
  {
   "cell_type": "markdown",
   "metadata": {},
   "source": [
    "For each analyzer, compute relative frequency as the number of jackpots over the total number of rolls."
   ]
  },
  {
   "cell_type": "code",
   "execution_count": 25,
   "metadata": {},
   "outputs": [
    {
     "data": {
      "text/plain": [
       "0.479"
      ]
     },
     "execution_count": 25,
     "metadata": {},
     "output_type": "execute_result"
    }
   ],
   "source": [
    "freqFair = fairAnalyzer.jackpot() / len(gameFair.show_results())\n",
    "freqFair"
   ]
  },
  {
   "cell_type": "code",
   "execution_count": 26,
   "metadata": {},
   "outputs": [
    {
     "data": {
      "text/plain": [
       "0.348"
      ]
     },
     "execution_count": 26,
     "metadata": {},
     "output_type": "execute_result"
    }
   ],
   "source": [
    "freqUnfair = unfairAnalyzer.jackpot() / len(gameUnfair.show_results())\n",
    "freqUnfair"
   ]
  },
  {
   "cell_type": "markdown",
   "metadata": {},
   "source": [
    "Show your results, comparing the two relative frequencies, in a simple bar chart."
   ]
  },
  {
   "cell_type": "code",
   "execution_count": 27,
   "metadata": {},
   "outputs": [],
   "source": [
    "dictionary = {\"Fair\":[freqFair],\n",
    "              \"Unfair\": [freqUnfair]}"
   ]
  },
  {
   "cell_type": "code",
   "execution_count": 28,
   "metadata": {},
   "outputs": [],
   "source": [
    "bar_graph = pd.DataFrame(dictionary)"
   ]
  },
  {
   "cell_type": "code",
   "execution_count": 29,
   "metadata": {},
   "outputs": [
    {
     "data": {
      "text/plain": [
       "<Axes: >"
      ]
     },
     "execution_count": 29,
     "metadata": {},
     "output_type": "execute_result"
    },
    {
     "data": {
      "image/png": "[encoded data removed]",
      "text/plain": [
       "<Figure size 640x480 with 1 Axes>"
      ]
     },
     "metadata": {},
     "output_type": "display_data"
    }
   ],
   "source": [
    "bar_graph.plot.bar()"
   ]
  },
  {
   "cell_type": "markdown",
   "metadata": {},
   "source": [
    "## Scenario 2: A 6-sided Die"
   ]
  },
  {
   "cell_type": "markdown",
   "metadata": {},
   "source": [
    "Create three dice, each with six sides having the faces 1 through 6."
   ]
  },
  {
   "cell_type": "code",
   "execution_count": 30,
   "metadata": {},
   "outputs": [],
   "source": [
    "a = np.array([1,2,3,4,5,6])\n",
    "die1 = Die(a)\n",
    "die2 = Die(a)\n",
    "die3 = Die(a)"
   ]
  },
  {
   "cell_type": "markdown",
   "metadata": {},
   "source": [
    "Convert one die to an unfair one by weighting the face 6 five times more than the other weights (i.e. it has weight of 5 and the others a weight of 1 each)."
   ]
  },
  {
   "cell_type": "code",
   "execution_count": 31,
   "metadata": {},
   "outputs": [],
   "source": [
    "die2.change_weights(6,5)"
   ]
  },
  {
   "cell_type": "markdown",
   "metadata": {},
   "source": [
    "Convert another die to be unfair by weighting the face five times more than the others."
   ]
  },
  {
   "cell_type": "code",
   "execution_count": 32,
   "metadata": {},
   "outputs": [],
   "source": [
    "die3.change_weights(1,5)"
   ]
  },
  {
   "cell_type": "markdown",
   "metadata": {},
   "source": [
    "Play a game of 10000 rolls with 5 fair dice."
   ]
  },
  {
   "cell_type": "code",
   "execution_count": 33,
   "metadata": {},
   "outputs": [
    {
     "data": {
      "text/html": [
       "<div>\n",
       "<style scoped>\n",
       "    .dataframe tbody tr th:only-of-type {\n",
       "        vertical-align: middle;\n",
       "    }\n",
       "\n",
       "    .dataframe tbody tr th {\n",
       "        vertical-align: top;\n",
       "    }\n",
       "\n",
       "    .dataframe thead th {\n",
       "        text-align: right;\n",
       "    }\n",
       "</style>\n",
       "<table border=\"1\" class=\"dataframe\">\n",
       "  <thead>\n",
       "    <tr style=\"text-align: right;\">\n",
       "      <th></th>\n",
       "      <th>Die1</th>\n",
       "      <th>Die2</th>\n",
       "      <th>Die3</th>\n",
       "      <th>Die4</th>\n",
       "      <th>Die5</th>\n",
       "    </tr>\n",
       "  </thead>\n",
       "  <tbody>\n",
       "    <tr>\n",
       "      <th>0</th>\n",
       "      <td>4</td>\n",
       "      <td>1</td>\n",
       "      <td>5</td>\n",
       "      <td>1</td>\n",
       "      <td>1</td>\n",
       "    </tr>\n",
       "    <tr>\n",
       "      <th>1</th>\n",
       "      <td>6</td>\n",
       "      <td>6</td>\n",
       "      <td>4</td>\n",
       "      <td>3</td>\n",
       "      <td>6</td>\n",
       "    </tr>\n",
       "    <tr>\n",
       "      <th>2</th>\n",
       "      <td>5</td>\n",
       "      <td>6</td>\n",
       "      <td>1</td>\n",
       "      <td>6</td>\n",
       "      <td>1</td>\n",
       "    </tr>\n",
       "    <tr>\n",
       "      <th>3</th>\n",
       "      <td>5</td>\n",
       "      <td>5</td>\n",
       "      <td>6</td>\n",
       "      <td>5</td>\n",
       "      <td>4</td>\n",
       "    </tr>\n",
       "    <tr>\n",
       "      <th>4</th>\n",
       "      <td>6</td>\n",
       "      <td>6</td>\n",
       "      <td>6</td>\n",
       "      <td>1</td>\n",
       "      <td>4</td>\n",
       "    </tr>\n",
       "    <tr>\n",
       "      <th>...</th>\n",
       "      <td>...</td>\n",
       "      <td>...</td>\n",
       "      <td>...</td>\n",
       "      <td>...</td>\n",
       "      <td>...</td>\n",
       "    </tr>\n",
       "    <tr>\n",
       "      <th>9995</th>\n",
       "      <td>5</td>\n",
       "      <td>5</td>\n",
       "      <td>4</td>\n",
       "      <td>2</td>\n",
       "      <td>4</td>\n",
       "    </tr>\n",
       "    <tr>\n",
       "      <th>9996</th>\n",
       "      <td>3</td>\n",
       "      <td>1</td>\n",
       "      <td>3</td>\n",
       "      <td>5</td>\n",
       "      <td>6</td>\n",
       "    </tr>\n",
       "    <tr>\n",
       "      <th>9997</th>\n",
       "      <td>6</td>\n",
       "      <td>3</td>\n",
       "      <td>6</td>\n",
       "      <td>4</td>\n",
       "      <td>5</td>\n",
       "    </tr>\n",
       "    <tr>\n",
       "      <th>9998</th>\n",
       "      <td>1</td>\n",
       "      <td>4</td>\n",
       "      <td>4</td>\n",
       "      <td>1</td>\n",
       "      <td>1</td>\n",
       "    </tr>\n",
       "    <tr>\n",
       "      <th>9999</th>\n",
       "      <td>3</td>\n",
       "      <td>5</td>\n",
       "      <td>5</td>\n",
       "      <td>1</td>\n",
       "      <td>6</td>\n",
       "    </tr>\n",
       "  </tbody>\n",
       "</table>\n",
       "<p>10000 rows × 5 columns</p>\n",
       "</div>"
      ],
      "text/plain": [
       "      Die1  Die2  Die3  Die4  Die5\n",
       "0        4     1     5     1     1\n",
       "1        6     6     4     3     6\n",
       "2        5     6     1     6     1\n",
       "3        5     5     6     5     4\n",
       "4        6     6     6     1     4\n",
       "...    ...   ...   ...   ...   ...\n",
       "9995     5     5     4     2     4\n",
       "9996     3     1     3     5     6\n",
       "9997     6     3     6     4     5\n",
       "9998     1     4     4     1     1\n",
       "9999     3     5     5     1     6\n",
       "\n",
       "[10000 rows x 5 columns]"
      ]
     },
     "execution_count": 33,
     "metadata": {},
     "output_type": "execute_result"
    }
   ],
   "source": [
    "dieGame = Game([die1,die1,die1,die1,die1])\n",
    "dieGame.play(10000)"
   ]
  },
  {
   "cell_type": "markdown",
   "metadata": {},
   "source": [
    "Play a game of 10000 rolls with unfair dice, one as defined in steps #2 and #3 respectively, and fair dice."
   ]
  },
  {
   "cell_type": "code",
   "execution_count": 34,
   "metadata": {},
   "outputs": [],
   "source": [
    "dieGame2 = Game([die2,die3,die1,die1,die1])"
   ]
  },
  {
   "cell_type": "code",
   "execution_count": 35,
   "metadata": {},
   "outputs": [
    {
     "data": {
      "text/html": [
       "<div>\n",
       "<style scoped>\n",
       "    .dataframe tbody tr th:only-of-type {\n",
       "        vertical-align: middle;\n",
       "    }\n",
       "\n",
       "    .dataframe tbody tr th {\n",
       "        vertical-align: top;\n",
       "    }\n",
       "\n",
       "    .dataframe thead th {\n",
       "        text-align: right;\n",
       "    }\n",
       "</style>\n",
       "<table border=\"1\" class=\"dataframe\">\n",
       "  <thead>\n",
       "    <tr style=\"text-align: right;\">\n",
       "      <th></th>\n",
       "      <th>Die1</th>\n",
       "      <th>Die2</th>\n",
       "      <th>Die3</th>\n",
       "      <th>Die4</th>\n",
       "      <th>Die5</th>\n",
       "    </tr>\n",
       "  </thead>\n",
       "  <tbody>\n",
       "    <tr>\n",
       "      <th>0</th>\n",
       "      <td>6</td>\n",
       "      <td>1</td>\n",
       "      <td>5</td>\n",
       "      <td>1</td>\n",
       "      <td>3</td>\n",
       "    </tr>\n",
       "    <tr>\n",
       "      <th>1</th>\n",
       "      <td>6</td>\n",
       "      <td>1</td>\n",
       "      <td>2</td>\n",
       "      <td>3</td>\n",
       "      <td>5</td>\n",
       "    </tr>\n",
       "    <tr>\n",
       "      <th>2</th>\n",
       "      <td>4</td>\n",
       "      <td>6</td>\n",
       "      <td>6</td>\n",
       "      <td>6</td>\n",
       "      <td>4</td>\n",
       "    </tr>\n",
       "    <tr>\n",
       "      <th>3</th>\n",
       "      <td>5</td>\n",
       "      <td>4</td>\n",
       "      <td>3</td>\n",
       "      <td>3</td>\n",
       "      <td>2</td>\n",
       "    </tr>\n",
       "    <tr>\n",
       "      <th>4</th>\n",
       "      <td>6</td>\n",
       "      <td>3</td>\n",
       "      <td>2</td>\n",
       "      <td>5</td>\n",
       "      <td>3</td>\n",
       "    </tr>\n",
       "    <tr>\n",
       "      <th>...</th>\n",
       "      <td>...</td>\n",
       "      <td>...</td>\n",
       "      <td>...</td>\n",
       "      <td>...</td>\n",
       "      <td>...</td>\n",
       "    </tr>\n",
       "    <tr>\n",
       "      <th>9995</th>\n",
       "      <td>6</td>\n",
       "      <td>2</td>\n",
       "      <td>6</td>\n",
       "      <td>2</td>\n",
       "      <td>6</td>\n",
       "    </tr>\n",
       "    <tr>\n",
       "      <th>9996</th>\n",
       "      <td>6</td>\n",
       "      <td>2</td>\n",
       "      <td>1</td>\n",
       "      <td>3</td>\n",
       "      <td>3</td>\n",
       "    </tr>\n",
       "    <tr>\n",
       "      <th>9997</th>\n",
       "      <td>6</td>\n",
       "      <td>1</td>\n",
       "      <td>5</td>\n",
       "      <td>5</td>\n",
       "      <td>4</td>\n",
       "    </tr>\n",
       "    <tr>\n",
       "      <th>9998</th>\n",
       "      <td>6</td>\n",
       "      <td>2</td>\n",
       "      <td>4</td>\n",
       "      <td>2</td>\n",
       "      <td>1</td>\n",
       "    </tr>\n",
       "    <tr>\n",
       "      <th>9999</th>\n",
       "      <td>6</td>\n",
       "      <td>1</td>\n",
       "      <td>6</td>\n",
       "      <td>1</td>\n",
       "      <td>5</td>\n",
       "    </tr>\n",
       "  </tbody>\n",
       "</table>\n",
       "<p>10000 rows × 5 columns</p>\n",
       "</div>"
      ],
      "text/plain": [
       "      Die1  Die2  Die3  Die4  Die5\n",
       "0        6     1     5     1     3\n",
       "1        6     1     2     3     5\n",
       "2        4     6     6     6     4\n",
       "3        5     4     3     3     2\n",
       "4        6     3     2     5     3\n",
       "...    ...   ...   ...   ...   ...\n",
       "9995     6     2     6     2     6\n",
       "9996     6     2     1     3     3\n",
       "9997     6     1     5     5     4\n",
       "9998     6     2     4     2     1\n",
       "9999     6     1     6     1     5\n",
       "\n",
       "[10000 rows x 5 columns]"
      ]
     },
     "execution_count": 35,
     "metadata": {},
     "output_type": "execute_result"
    }
   ],
   "source": [
    "dieGame2.play(10000)"
   ]
  },
  {
   "cell_type": "markdown",
   "metadata": {},
   "source": [
    "For each game, use an Analyzer object to determine the relative frequency of jackpots and show your results, comparing the two relative frequencies, in a simple bar chart."
   ]
  },
  {
   "cell_type": "code",
   "execution_count": 36,
   "metadata": {},
   "outputs": [],
   "source": [
    "analyzer1 = Analyzer(dieGame)\n",
    "analyzer2 = Analyzer(dieGame2)"
   ]
  },
  {
   "cell_type": "code",
   "execution_count": 37,
   "metadata": {},
   "outputs": [
    {
     "data": {
      "text/plain": [
       "5"
      ]
     },
     "execution_count": 37,
     "metadata": {},
     "output_type": "execute_result"
    }
   ],
   "source": [
    "jackpot1 = analyzer1.jackpot()\n",
    "jackpot1"
   ]
  },
  {
   "cell_type": "code",
   "execution_count": 38,
   "metadata": {},
   "outputs": [
    {
     "data": {
      "text/plain": [
       "6"
      ]
     },
     "execution_count": 38,
     "metadata": {},
     "output_type": "execute_result"
    }
   ],
   "source": [
    "jackpot2 = analyzer2.jackpot()\n",
    "jackpot2"
   ]
  },
  {
   "cell_type": "code",
   "execution_count": 39,
   "metadata": {},
   "outputs": [],
   "source": [
    "jackpot_graph = {\"Die Game 1\" :[jackpot1],\n",
    "                 \"Die Game 2\" : [jackpot2]}\n",
    "\n",
    "graph = pd.DataFrame(jackpot_graph)"
   ]
  },
  {
   "cell_type": "code",
   "execution_count": 40,
   "metadata": {},
   "outputs": [
    {
     "data": {
      "text/plain": [
       "<Axes: >"
      ]
     },
     "execution_count": 40,
     "metadata": {},
     "output_type": "execute_result"
    },
    {
     "data": {
      "image/png": "[encoded data removed]",
      "text/plain": [
       "<Figure size 640x480 with 1 Axes>"
      ]
     },
     "metadata": {},
     "output_type": "display_data"
    }
   ],
   "source": [
    "graph.plot.bar()"
   ]
  },
  {
   "cell_type": "markdown",
   "metadata": {},
   "source": [
    "## Scenario 3: Letters of the Alphabet"
   ]
  },
  {
   "cell_type": "markdown",
   "metadata": {},
   "source": [
    "Create a “die” of letters from to with weights based on their frequency of usage as found in the data file english_letters.txt. Use the frequencies (i.e. raw counts) as weights."
   ]
  },
  {
   "cell_type": "code",
   "execution_count": 41,
   "metadata": {},
   "outputs": [],
   "source": [
    "letters = pd.read_csv(\"/Users/stephenkullman/Desktop/Python/sjk5cu_ds5100_montecarlo/english_letters.txt\",sep=\" \", header=None)"
   ]
  },
  {
   "cell_type": "code",
   "execution_count": 42,
   "metadata": {},
   "outputs": [],
   "source": [
    "faces = letters[0].to_list()\n",
    "weights = letters[1].to_list()\n"
   ]
  },
  {
   "cell_type": "code",
   "execution_count": 43,
   "metadata": {},
   "outputs": [],
   "source": [
    "die = Die(np.array(faces))\n",
    "\n",
    "for i,face in enumerate(faces):\n",
    "    die.change_weights(face,weights[i])\n",
    "    "
   ]
  },
  {
   "cell_type": "code",
   "execution_count": 44,
   "metadata": {},
   "outputs": [
    {
     "data": {
      "text/html": [
       "<div>\n",
       "<style scoped>\n",
       "    .dataframe tbody tr th:only-of-type {\n",
       "        vertical-align: middle;\n",
       "    }\n",
       "\n",
       "    .dataframe tbody tr th {\n",
       "        vertical-align: top;\n",
       "    }\n",
       "\n",
       "    .dataframe thead th {\n",
       "        text-align: right;\n",
       "    }\n",
       "</style>\n",
       "<table border=\"1\" class=\"dataframe\">\n",
       "  <thead>\n",
       "    <tr style=\"text-align: right;\">\n",
       "      <th></th>\n",
       "      <th>weights</th>\n",
       "    </tr>\n",
       "    <tr>\n",
       "      <th>side</th>\n",
       "      <th></th>\n",
       "    </tr>\n",
       "  </thead>\n",
       "  <tbody>\n",
       "    <tr>\n",
       "      <th>E</th>\n",
       "      <td>529117365</td>\n",
       "    </tr>\n",
       "    <tr>\n",
       "      <th>T</th>\n",
       "      <td>390965105</td>\n",
       "    </tr>\n",
       "    <tr>\n",
       "      <th>A</th>\n",
       "      <td>374061888</td>\n",
       "    </tr>\n",
       "    <tr>\n",
       "      <th>O</th>\n",
       "      <td>326627740</td>\n",
       "    </tr>\n",
       "    <tr>\n",
       "      <th>I</th>\n",
       "      <td>320410057</td>\n",
       "    </tr>\n",
       "    <tr>\n",
       "      <th>N</th>\n",
       "      <td>313720540</td>\n",
       "    </tr>\n",
       "    <tr>\n",
       "      <th>S</th>\n",
       "      <td>294300210</td>\n",
       "    </tr>\n",
       "    <tr>\n",
       "      <th>R</th>\n",
       "      <td>277000841</td>\n",
       "    </tr>\n",
       "    <tr>\n",
       "      <th>H</th>\n",
       "      <td>216768975</td>\n",
       "    </tr>\n",
       "    <tr>\n",
       "      <th>L</th>\n",
       "      <td>183996130</td>\n",
       "    </tr>\n",
       "    <tr>\n",
       "      <th>D</th>\n",
       "      <td>169330528</td>\n",
       "    </tr>\n",
       "    <tr>\n",
       "      <th>C</th>\n",
       "      <td>138416451</td>\n",
       "    </tr>\n",
       "    <tr>\n",
       "      <th>U</th>\n",
       "      <td>117295780</td>\n",
       "    </tr>\n",
       "    <tr>\n",
       "      <th>M</th>\n",
       "      <td>110504544</td>\n",
       "    </tr>\n",
       "    <tr>\n",
       "      <th>F</th>\n",
       "      <td>95422055</td>\n",
       "    </tr>\n",
       "    <tr>\n",
       "      <th>G</th>\n",
       "      <td>91258980</td>\n",
       "    </tr>\n",
       "    <tr>\n",
       "      <th>P</th>\n",
       "      <td>90376747</td>\n",
       "    </tr>\n",
       "    <tr>\n",
       "      <th>W</th>\n",
       "      <td>79843664</td>\n",
       "    </tr>\n",
       "    <tr>\n",
       "      <th>Y</th>\n",
       "      <td>75294515</td>\n",
       "    </tr>\n",
       "    <tr>\n",
       "      <th>B</th>\n",
       "      <td>70195826</td>\n",
       "    </tr>\n",
       "    <tr>\n",
       "      <th>V</th>\n",
       "      <td>46337161</td>\n",
       "    </tr>\n",
       "    <tr>\n",
       "      <th>K</th>\n",
       "      <td>35373464</td>\n",
       "    </tr>\n",
       "    <tr>\n",
       "      <th>J</th>\n",
       "      <td>9613410</td>\n",
       "    </tr>\n",
       "    <tr>\n",
       "      <th>X</th>\n",
       "      <td>8369915</td>\n",
       "    </tr>\n",
       "    <tr>\n",
       "      <th>Z</th>\n",
       "      <td>4975847</td>\n",
       "    </tr>\n",
       "    <tr>\n",
       "      <th>Q</th>\n",
       "      <td>4550166</td>\n",
       "    </tr>\n",
       "  </tbody>\n",
       "</table>\n",
       "</div>"
      ],
      "text/plain": [
       "        weights\n",
       "side           \n",
       "E     529117365\n",
       "T     390965105\n",
       "A     374061888\n",
       "O     326627740\n",
       "I     320410057\n",
       "N     313720540\n",
       "S     294300210\n",
       "R     277000841\n",
       "H     216768975\n",
       "L     183996130\n",
       "D     169330528\n",
       "C     138416451\n",
       "U     117295780\n",
       "M     110504544\n",
       "F      95422055\n",
       "G      91258980\n",
       "P      90376747\n",
       "W      79843664\n",
       "Y      75294515\n",
       "B      70195826\n",
       "V      46337161\n",
       "K      35373464\n",
       "J       9613410\n",
       "X       8369915\n",
       "Z       4975847\n",
       "Q       4550166"
      ]
     },
     "execution_count": 44,
     "metadata": {},
     "output_type": "execute_result"
    }
   ],
   "source": [
    "die.show_die()"
   ]
  },
  {
   "cell_type": "markdown",
   "metadata": {},
   "source": [
    "Play a game involving 4 of these dice with 1000 rolls."
   ]
  },
  {
   "cell_type": "code",
   "execution_count": 45,
   "metadata": {},
   "outputs": [
    {
     "data": {
      "text/html": [
       "<div>\n",
       "<style scoped>\n",
       "    .dataframe tbody tr th:only-of-type {\n",
       "        vertical-align: middle;\n",
       "    }\n",
       "\n",
       "    .dataframe tbody tr th {\n",
       "        vertical-align: top;\n",
       "    }\n",
       "\n",
       "    .dataframe thead th {\n",
       "        text-align: right;\n",
       "    }\n",
       "</style>\n",
       "<table border=\"1\" class=\"dataframe\">\n",
       "  <thead>\n",
       "    <tr style=\"text-align: right;\">\n",
       "      <th></th>\n",
       "      <th>Die1</th>\n",
       "      <th>Die2</th>\n",
       "      <th>Die3</th>\n",
       "      <th>Die4</th>\n",
       "    </tr>\n",
       "  </thead>\n",
       "  <tbody>\n",
       "    <tr>\n",
       "      <th>0</th>\n",
       "      <td>S</td>\n",
       "      <td>E</td>\n",
       "      <td>A</td>\n",
       "      <td>R</td>\n",
       "    </tr>\n",
       "    <tr>\n",
       "      <th>1</th>\n",
       "      <td>C</td>\n",
       "      <td>D</td>\n",
       "      <td>K</td>\n",
       "      <td>E</td>\n",
       "    </tr>\n",
       "    <tr>\n",
       "      <th>2</th>\n",
       "      <td>Y</td>\n",
       "      <td>H</td>\n",
       "      <td>S</td>\n",
       "      <td>R</td>\n",
       "    </tr>\n",
       "    <tr>\n",
       "      <th>3</th>\n",
       "      <td>G</td>\n",
       "      <td>A</td>\n",
       "      <td>E</td>\n",
       "      <td>E</td>\n",
       "    </tr>\n",
       "    <tr>\n",
       "      <th>4</th>\n",
       "      <td>C</td>\n",
       "      <td>O</td>\n",
       "      <td>A</td>\n",
       "      <td>X</td>\n",
       "    </tr>\n",
       "    <tr>\n",
       "      <th>...</th>\n",
       "      <td>...</td>\n",
       "      <td>...</td>\n",
       "      <td>...</td>\n",
       "      <td>...</td>\n",
       "    </tr>\n",
       "    <tr>\n",
       "      <th>995</th>\n",
       "      <td>T</td>\n",
       "      <td>I</td>\n",
       "      <td>T</td>\n",
       "      <td>N</td>\n",
       "    </tr>\n",
       "    <tr>\n",
       "      <th>996</th>\n",
       "      <td>O</td>\n",
       "      <td>D</td>\n",
       "      <td>O</td>\n",
       "      <td>Y</td>\n",
       "    </tr>\n",
       "    <tr>\n",
       "      <th>997</th>\n",
       "      <td>T</td>\n",
       "      <td>A</td>\n",
       "      <td>E</td>\n",
       "      <td>S</td>\n",
       "    </tr>\n",
       "    <tr>\n",
       "      <th>998</th>\n",
       "      <td>E</td>\n",
       "      <td>S</td>\n",
       "      <td>S</td>\n",
       "      <td>R</td>\n",
       "    </tr>\n",
       "    <tr>\n",
       "      <th>999</th>\n",
       "      <td>H</td>\n",
       "      <td>G</td>\n",
       "      <td>O</td>\n",
       "      <td>R</td>\n",
       "    </tr>\n",
       "  </tbody>\n",
       "</table>\n",
       "<p>1000 rows × 4 columns</p>\n",
       "</div>"
      ],
      "text/plain": [
       "    Die1 Die2 Die3 Die4\n",
       "0      S    E    A    R\n",
       "1      C    D    K    E\n",
       "2      Y    H    S    R\n",
       "3      G    A    E    E\n",
       "4      C    O    A    X\n",
       "..   ...  ...  ...  ...\n",
       "995    T    I    T    N\n",
       "996    O    D    O    Y\n",
       "997    T    A    E    S\n",
       "998    E    S    S    R\n",
       "999    H    G    O    R\n",
       "\n",
       "[1000 rows x 4 columns]"
      ]
     },
     "execution_count": 45,
     "metadata": {},
     "output_type": "execute_result"
    }
   ],
   "source": [
    "yahtzee = Game([die,die,die,die])\n",
    "yahtzee.play(1000)"
   ]
  },
  {
   "cell_type": "markdown",
   "metadata": {},
   "source": [
    "Determine wow many distinct permutations in your results are actual English words, based on the vocabulary found in scrabble_words.txt.\n",
    "\n"
   ]
  },
  {
   "cell_type": "code",
   "execution_count": 46,
   "metadata": {},
   "outputs": [],
   "source": [
    "yahtzeeAnalyzer = Analyzer(yahtzee)\n",
    "words = yahtzeeAnalyzer.permu_count()\n",
    "list = []\n",
    "for index in (words.index):\n",
    "    list.append(\"\".join(index))"
   ]
  },
  {
   "cell_type": "code",
   "execution_count": 47,
   "metadata": {},
   "outputs": [],
   "source": [
    "wordList = pd.read_csv(\"/Users/stephenkullman/Desktop/Python/sjk5cu_ds5100_montecarlo/scrabble_words.txt\",header=None)\n",
    "wordList = wordList.values.tolist()\n",
    "wordFinal = []\n",
    "for i in range(len(wordList)):\n",
    "    wordFinal.append(wordList[i][0])"
   ]
  },
  {
   "cell_type": "code",
   "execution_count": 48,
   "metadata": {},
   "outputs": [
    {
     "data": {
      "text/plain": [
       "58"
      ]
     },
     "execution_count": 48,
     "metadata": {},
     "output_type": "execute_result"
    }
   ],
   "source": [
    "len(set(list) & set(wordFinal))"
   ]
  },
  {
   "cell_type": "markdown",
   "metadata": {},
   "source": [
    "Repeat steps #2 and #3 using 5 dice and compare the results. Which word length generates a higher percentage of English words?"
   ]
  },
  {
   "cell_type": "code",
   "execution_count": 49,
   "metadata": {},
   "outputs": [
    {
     "data": {
      "text/html": [
       "<div>\n",
       "<style scoped>\n",
       "    .dataframe tbody tr th:only-of-type {\n",
       "        vertical-align: middle;\n",
       "    }\n",
       "\n",
       "    .dataframe tbody tr th {\n",
       "        vertical-align: top;\n",
       "    }\n",
       "\n",
       "    .dataframe thead th {\n",
       "        text-align: right;\n",
       "    }\n",
       "</style>\n",
       "<table border=\"1\" class=\"dataframe\">\n",
       "  <thead>\n",
       "    <tr style=\"text-align: right;\">\n",
       "      <th></th>\n",
       "      <th>Die1</th>\n",
       "      <th>Die2</th>\n",
       "      <th>Die3</th>\n",
       "      <th>Die4</th>\n",
       "      <th>Die5</th>\n",
       "    </tr>\n",
       "  </thead>\n",
       "  <tbody>\n",
       "    <tr>\n",
       "      <th>0</th>\n",
       "      <td>A</td>\n",
       "      <td>T</td>\n",
       "      <td>E</td>\n",
       "      <td>A</td>\n",
       "      <td>E</td>\n",
       "    </tr>\n",
       "    <tr>\n",
       "      <th>1</th>\n",
       "      <td>I</td>\n",
       "      <td>H</td>\n",
       "      <td>C</td>\n",
       "      <td>N</td>\n",
       "      <td>E</td>\n",
       "    </tr>\n",
       "    <tr>\n",
       "      <th>2</th>\n",
       "      <td>N</td>\n",
       "      <td>O</td>\n",
       "      <td>X</td>\n",
       "      <td>R</td>\n",
       "      <td>Y</td>\n",
       "    </tr>\n",
       "    <tr>\n",
       "      <th>3</th>\n",
       "      <td>A</td>\n",
       "      <td>O</td>\n",
       "      <td>E</td>\n",
       "      <td>M</td>\n",
       "      <td>E</td>\n",
       "    </tr>\n",
       "    <tr>\n",
       "      <th>4</th>\n",
       "      <td>C</td>\n",
       "      <td>Y</td>\n",
       "      <td>C</td>\n",
       "      <td>C</td>\n",
       "      <td>H</td>\n",
       "    </tr>\n",
       "    <tr>\n",
       "      <th>...</th>\n",
       "      <td>...</td>\n",
       "      <td>...</td>\n",
       "      <td>...</td>\n",
       "      <td>...</td>\n",
       "      <td>...</td>\n",
       "    </tr>\n",
       "    <tr>\n",
       "      <th>995</th>\n",
       "      <td>O</td>\n",
       "      <td>H</td>\n",
       "      <td>U</td>\n",
       "      <td>F</td>\n",
       "      <td>O</td>\n",
       "    </tr>\n",
       "    <tr>\n",
       "      <th>996</th>\n",
       "      <td>O</td>\n",
       "      <td>E</td>\n",
       "      <td>I</td>\n",
       "      <td>F</td>\n",
       "      <td>F</td>\n",
       "    </tr>\n",
       "    <tr>\n",
       "      <th>997</th>\n",
       "      <td>S</td>\n",
       "      <td>E</td>\n",
       "      <td>S</td>\n",
       "      <td>G</td>\n",
       "      <td>F</td>\n",
       "    </tr>\n",
       "    <tr>\n",
       "      <th>998</th>\n",
       "      <td>T</td>\n",
       "      <td>S</td>\n",
       "      <td>T</td>\n",
       "      <td>W</td>\n",
       "      <td>E</td>\n",
       "    </tr>\n",
       "    <tr>\n",
       "      <th>999</th>\n",
       "      <td>T</td>\n",
       "      <td>U</td>\n",
       "      <td>M</td>\n",
       "      <td>G</td>\n",
       "      <td>N</td>\n",
       "    </tr>\n",
       "  </tbody>\n",
       "</table>\n",
       "<p>1000 rows × 5 columns</p>\n",
       "</div>"
      ],
      "text/plain": [
       "    Die1 Die2 Die3 Die4 Die5\n",
       "0      A    T    E    A    E\n",
       "1      I    H    C    N    E\n",
       "2      N    O    X    R    Y\n",
       "3      A    O    E    M    E\n",
       "4      C    Y    C    C    H\n",
       "..   ...  ...  ...  ...  ...\n",
       "995    O    H    U    F    O\n",
       "996    O    E    I    F    F\n",
       "997    S    E    S    G    F\n",
       "998    T    S    T    W    E\n",
       "999    T    U    M    G    N\n",
       "\n",
       "[1000 rows x 5 columns]"
      ]
     },
     "execution_count": 49,
     "metadata": {},
     "output_type": "execute_result"
    }
   ],
   "source": [
    "yahtzee2 = Game([die,die,die,die,die])\n",
    "yahtzee2.play(1000)"
   ]
  },
  {
   "cell_type": "code",
   "execution_count": 50,
   "metadata": {},
   "outputs": [],
   "source": [
    "yahtzeeAnalyzer2 = Analyzer(yahtzee2)\n",
    "words2 = yahtzeeAnalyzer2.permu_count()\n",
    "list2 = []\n",
    "for index in (words2.index):\n",
    "    list2.append(\"\".join(index))"
   ]
  },
  {
   "cell_type": "code",
   "execution_count": 51,
   "metadata": {},
   "outputs": [
    {
     "data": {
      "text/plain": [
       "10"
      ]
     },
     "execution_count": 51,
     "metadata": {},
     "output_type": "execute_result"
    }
   ],
   "source": [
    "len(set(list2) & set(wordFinal))"
   ]
  },
  {
   "cell_type": "markdown",
   "metadata": {},
   "source": [
    "We see that adding a 5th die drastically reduces the amount of words we get in the final set"
   ]
  }
 ],
 "metadata": {
  "kernelspec": {
   "display_name": "base",
   "language": "python",
   "name": "python3"
  },
  "language_info": {
   "codemirror_mode": {
    "name": "ipython",
    "version": 3
   },
   "file_extension": ".py",
   "mimetype": "text/x-python",
   "name": "python",
   "nbconvert_exporter": "python",
   "pygments_lexer": "ipython3",
   "version": "3.10.9"
  },
  "orig_nbformat": 4
 },
 "nbformat": 4,
 "nbformat_minor": 2
}
